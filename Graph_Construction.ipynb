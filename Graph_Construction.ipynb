{
 "cells": [
  {
   "cell_type": "markdown",
   "id": "0ffea6d0-2399-48a0-be45-6136f4b41471",
   "metadata": {},
   "source": [
    "# Graph Construction"
   ]
  },
  {
   "cell_type": "markdown",
   "id": "bd933539-10ff-4ecd-98bf-d9e59d58cd5a",
   "metadata": {},
   "source": [
    "This notebook construct the academic graph into `torch.geometric.data` object's format given the citation information file."
   ]
  },
  {
   "cell_type": "markdown",
   "id": "b3d6c769-fe2d-4276-b4fc-7334543e131e",
   "metadata": {},
   "source": [
    "#### Settings\n",
    "The citation information file should have the format:\n",
    "todo\n"
   ]
  },
  {
   "cell_type": "markdown",
   "id": "64dce7e3-bb17-4f31-8616-c91b9458e047",
   "metadata": {},
   "source": [
    "#### Prepration"
   ]
  },
  {
   "cell_type": "code",
   "execution_count": 1,
   "id": "e53520e7-f64a-44f6-821a-7bf516d94776",
   "metadata": {},
   "outputs": [],
   "source": [
    "import os\n",
    "%load_ext autoreload\n",
    "%autoreload 2"
   ]
  },
  {
   "attachments": {},
   "cell_type": "markdown",
   "id": "008fbd7c",
   "metadata": {},
   "source": [
    "#### Set up dataset directory:"
   ]
  },
  {
   "cell_type": "code",
   "execution_count": 4,
   "id": "fca4bd52",
   "metadata": {},
   "outputs": [],
   "source": [
    "os.getcwd()\n",
    "dataset_dir = \"./dataset/CUHKSZ_AcademicGraph\"\n",
    "if not os.path.exists(dataset_dir):\n",
    "    os.makedirs(dataset_dir)"
   ]
  },
  {
   "attachments": {},
   "cell_type": "markdown",
   "id": "879145d1",
   "metadata": {},
   "source": [
    "#### To load our dataset:\n",
    "0. Library dependency: pandas, torch, torch_geometric\n",
    "1. Put `CUHKSZ_AcademicGraph.py` into your module utility folder.\n",
    "2. Import and create a CUHKSZ_AcademicGraph opject."
   ]
  },
  {
   "cell_type": "code",
   "execution_count": 11,
   "id": "d1163939",
   "metadata": {},
   "outputs": [
    {
     "name": "stdout",
     "output_type": "stream",
     "text": [
      "dataset\\CUHKSZ_AcademicGraph\\raw\\CUHKSZ_AcademicGraph-rawdata_released\n",
      "dataset\\CUHKSZ_AcademicGraph\\raw\\CUHKSZ_AcademicGraph-rawdata_released\n"
     ]
    },
    {
     "name": "stderr",
     "output_type": "stream",
     "text": [
      "Processing...\n",
      "Done!\n"
     ]
    }
   ],
   "source": [
    "from utils.CUHKSZ_AcademicGraph import CUHKSZ_AcademicGraph\n",
    "\n",
    "dataset = CUHKSZ_AcademicGraph(root=dataset_dir)"
   ]
  },
  {
   "cell_type": "code",
   "execution_count": 12,
   "id": "ecba3af9",
   "metadata": {},
   "outputs": [
    {
     "data": {
      "text/plain": [
       "CUHKSZ_AcademicGraph()"
      ]
     },
     "execution_count": 12,
     "metadata": {},
     "output_type": "execute_result"
    }
   ],
   "source": [
    "dataset"
   ]
  },
  {
   "cell_type": "code",
   "execution_count": 13,
   "id": "38538c7b",
   "metadata": {},
   "outputs": [
    {
     "data": {
      "text/plain": [
       "Data(x=[3, 768], edge_index=[2, 3])"
      ]
     },
     "execution_count": 13,
     "metadata": {},
     "output_type": "execute_result"
    }
   ],
   "source": [
    "dataset[0]"
   ]
  }
 ],
 "metadata": {
  "kernelspec": {
   "display_name": "Python 3 (ipykernel)",
   "language": "python",
   "name": "python3"
  },
  "language_info": {
   "codemirror_mode": {
    "name": "ipython",
    "version": 3
   },
   "file_extension": ".py",
   "mimetype": "text/x-python",
   "name": "python",
   "nbconvert_exporter": "python",
   "pygments_lexer": "ipython3",
   "version": "3.10.9"
  },
  "widgets": {
   "application/vnd.jupyter.widget-state+json": {
    "state": {},
    "version_major": 2,
    "version_minor": 0
   }
  }
 },
 "nbformat": 4,
 "nbformat_minor": 5
}
