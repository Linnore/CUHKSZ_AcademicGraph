{
 "cells": [
  {
   "cell_type": "markdown",
   "id": "0ffea6d0-2399-48a0-be45-6136f4b41471",
   "metadata": {},
   "source": [
    "# Graph Construction"
   ]
  },
  {
   "cell_type": "markdown",
   "id": "bd933539-10ff-4ecd-98bf-d9e59d58cd5a",
   "metadata": {},
   "source": [
    "This notebook construct the academic graph into `torch.geometric.data` object's format given the citation information file."
   ]
  },
  {
   "cell_type": "markdown",
   "id": "b3d6c769-fe2d-4276-b4fc-7334543e131e",
   "metadata": {},
   "source": [
    "#### Settings\n",
    "The citation information file should have the format:\n",
    "todo\n"
   ]
  },
  {
   "cell_type": "markdown",
   "id": "64dce7e3-bb17-4f31-8616-c91b9458e047",
   "metadata": {},
   "source": [
    "#### Prepration"
   ]
  },
  {
   "cell_type": "code",
   "execution_count": 5,
   "id": "e53520e7-f64a-44f6-821a-7bf516d94776",
   "metadata": {},
   "outputs": [
    {
     "data": {
      "text/plain": [
       "'D:\\\\GitHub\\\\aml-project\\\\dataPrep\\\\ljl'"
      ]
     },
     "execution_count": 5,
     "metadata": {},
     "output_type": "execute_result"
    }
   ],
   "source": [
    "import pandas as pd\n",
    "import os\n",
    "os.getcwd()"
   ]
  },
  {
   "cell_type": "markdown",
   "id": "3c20da02-c96a-4242-9a26-3bb5f5d5ad3b",
   "metadata": {},
   "source": [
    "#### Data processing"
   ]
  },
  {
   "cell_type": "code",
   "execution_count": 25,
   "id": "ef8244a1-167a-407b-b067-a2ab1182c066",
   "metadata": {},
   "outputs": [],
   "source": [
    "# citations = pd.read_csv(\"Citations.csv\")\n",
    "papers = pd.read_csv(\"Raw_Papers.csv\")\n",
    "\n",
    "df_reIndexMapping = pd.DataFrame({\"AG_Index\":papers.index}, index=papers.Paper_ID)\n",
    "reIndexMapping = dict(zip(papers.Paper_ID, papers.index))\n",
    "\n",
    "df_reIndexMapping.to_csv(\"IndexMapping.csv\")"
   ]
  },
  {
   "cell_type": "code",
   "execution_count": null,
   "id": "c3380039-2b12-4b48-b25c-8dc9f3e082aa",
   "metadata": {},
   "outputs": [],
   "source": []
  }
 ],
 "metadata": {
  "kernelspec": {
   "display_name": "Python 3 (ipykernel)",
   "language": "python",
   "name": "python3"
  },
  "language_info": {
   "codemirror_mode": {
    "name": "ipython",
    "version": 3
   },
   "file_extension": ".py",
   "mimetype": "text/x-python",
   "name": "python",
   "nbconvert_exporter": "python",
   "pygments_lexer": "ipython3",
   "version": "3.10.9"
  },
  "widgets": {
   "application/vnd.jupyter.widget-state+json": {
    "state": {},
    "version_major": 2,
    "version_minor": 0
   }
  }
 },
 "nbformat": 4,
 "nbformat_minor": 5
}
